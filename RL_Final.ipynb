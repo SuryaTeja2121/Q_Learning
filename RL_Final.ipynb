{
 "cells": [
  {
   "cell_type": "markdown",
   "metadata": {
    "id": "56PsziHu4Er9"
   },
   "source": [
    "**Importing Libraries**"
   ]
  },
  {
   "cell_type": "code",
   "execution_count": 1,
   "metadata": {
    "id": "PsroEtzN4Cal"
   },
   "outputs": [],
   "source": [
    "import gym\n",
    "import numpy as np\n",
    "import math\n",
    "from collections import deque\n",
    "import time\n",
    "import matplotlib\n",
    "import matplotlib.pyplot as plt"
   ]
  },
  {
   "cell_type": "markdown",
   "metadata": {
    "id": "lm5JTuHBCgn5"
   },
   "source": [
    "**Exploring the Environment**"
   ]
  },
  {
   "cell_type": "code",
   "execution_count": 2,
   "metadata": {
    "colab": {
     "base_uri": "https://localhost:8080/"
    },
    "id": "ir2d-SmHCqq1",
    "outputId": "148c8dfe-b719-4e73-b1b8-b10868260b16"
   },
   "outputs": [
    {
     "name": "stdout",
     "output_type": "stream",
     "text": [
      "State space:  Box([-1.2  -0.07], [0.6  0.07], (2,), float32)\n",
      "Action space: Discrete(3)\n"
     ]
    }
   ],
   "source": [
    "envi = gym.make('MountainCar-v0')\n",
    "envi.reset()\n",
    "\n",
    "print('State space: ', envi.observation_space)\n",
    "print('Action space:', envi.action_space)"
   ]
  },
  {
   "cell_type": "code",
   "execution_count": 3,
   "metadata": {
    "colab": {
     "base_uri": "https://localhost:8080/"
    },
    "id": "vfiPbZljC-Jm",
    "outputId": "280c3460-dfd3-4d6d-d366-1f50dafc5a6b"
   },
   "outputs": [
    {
     "name": "stdout",
     "output_type": "stream",
     "text": [
      "[-1.2  -0.07]\n",
      "[0.6  0.07]\n"
     ]
    }
   ],
   "source": [
    "print(envi.observation_space.low)\n",
    "print(envi.observation_space.high)"
   ]
  },
  {
   "cell_type": "code",
   "execution_count": 4,
   "metadata": {
    "id": "4Mqs7GNF4UCT"
   },
   "outputs": [],
   "source": [
    "class MountaincarQAgent():\n",
    "    def __init__(self, buckets=(12, 12), num_episodes=500000, min_epsilon=0.01, discount=0.99, decay=100, force=True):\n",
    "        self.buckets = buckets\n",
    "        self.num_episodes = num_episodes\n",
    "        self.min_epsilon = min_epsilon\n",
    "        self.discount = discount\n",
    "        self.decay = decay\n",
    "\n",
    "        self.env = gym.make('MountainCar-v0')\n",
    "        self.upper_bounds = [self.env.observation_space.high[0], self.env.observation_space.high[1]]\n",
    "        self.lower_bounds = [self.env.observation_space.low[0], self.env.observation_space.low[1]]\n",
    "\n",
    "\n",
    "        #print(\"ub : \",self.upper_bounds)\n",
    "        #print(\"lb : \",self.lower_bounds)\n",
    "        \n",
    "        ## Concatination of tuples to get shape (12,12,3) for buckets=(12, 12)\n",
    "        self.Q_table = np.zeros(self.buckets + (self.env.action_space.n,))        \n",
    "        \n",
    "        self.learning_rate = 0.008\n",
    "        \n",
    "        self.threshold = self.env.spec.reward_threshold\n",
    "        print('threshold: ', self.threshold)\n",
    "\n",
    "    def discretize_state(self, obs):\n",
    "       # obs - it is the list of observations\n",
    "        discretized = list()   \n",
    "        for i in range(len(obs)): \n",
    "            # print(\"obs : \",obs) #len(obs) = 2 => obs :  [-0.5343753   0.00108897]\n",
    "            #ub :  [0.6, 0.07]\n",
    "            #lb :  [-1.2, -0.07]\n",
    "            scaling = (obs[i] + abs(self.lower_bounds[i])) / (self.upper_bounds[i] - self.lower_bounds[i])\n",
    "            # scaling = (-0.53 + (-1.2)) / (0.6 - (-1.2))\n",
    "            new_obs = int(round((self.buckets[i] - 1) * scaling))\n",
    "            new_obs = min(self.buckets[i] - 1, max(0, new_obs))\n",
    "            #print(new_obs)\n",
    "            discretized.append(new_obs)\n",
    "        return tuple(discretized)\n",
    "\n",
    "    \n",
    "    def choose_action(self, state):\n",
    "        if (np.random.random() < self.epsilon):\n",
    "            return self.env.action_space.sample() \n",
    "        else:\n",
    "            return np.argmax(self.Q_table[state])\n",
    "\n",
    "    def update_q(self, state, action, reward, new_state):\n",
    "        self.Q_table[state][action] += \\\n",
    "           self.learning_rate * (reward + self.discount * np.max(self.Q_table[new_state]) - self.Q_table[state][action])\n",
    "\n",
    "    def get_epsilon(self, t):\n",
    "       #print(1. - math.log10((t + 1) / self.decay))\n",
    "      return max(self.min_epsilon, min(1., 1. - math.log10((t + 1) / self.decay)))\n",
    "\n",
    "    \n",
    "    def train(self):\n",
    "        scores_deque = deque(maxlen=100)\n",
    "        scores_array = []\n",
    "        avg_scores_array = []  \n",
    "        print_every = 50000\n",
    "        time_start = time.time()\n",
    "        iteration_graph=[]\n",
    "        score_graph=[]\n",
    "        for i_episode in range(self.num_episodes):\n",
    "            current_state = self.discretize_state(self.env.reset())\n",
    "\n",
    "            self.epsilon = self.get_epsilon(i_episode)\n",
    "            #print(\"eps : \",self.epsilon)\n",
    "            done = False\n",
    "            \n",
    "            episode_reward = 0\n",
    "            time_step = 0\n",
    "            \n",
    "            while not done:\n",
    "                action = self.choose_action(current_state)\n",
    "                obs, reward, done, _ = self.env.step(action)\n",
    "                #env. step() : This command will take an action at each step. \n",
    "                #The action is specified as its parameter. Env. step function returns four parameters, namely observation, reward, done and info.   \n",
    "                new_state = self.discretize_state(obs)\n",
    "                self.update_q(current_state, action, reward, new_state)\n",
    "                current_state = new_state\n",
    "                time_step += 1\n",
    "                episode_reward += reward\n",
    "                \n",
    "            scores_deque.append(episode_reward)\n",
    "            scores_array.append(episode_reward)\n",
    "            \n",
    "            avg_score = np.mean(scores_deque)\n",
    "            avg_scores_array.append(avg_score)\n",
    "            s = (int)(time.time() - time_start)\n",
    "            \n",
    "            if i_episode % print_every == 0 and i_episode > 0:\n",
    "                iteration_graph.append(i_episode)\n",
    "                score_graph.append(avg_score)\n",
    "                print('Episode: {}, Timesteps:  {}, Score: {:5},  Avg.Score: {:.2f}, eps-greedy: {:5.2f}, Time: {:02}:{:02}:{:02}'.\\\n",
    "                    format(i_episode, time_step, episode_reward, avg_score, self.epsilon, s//3600, s%3600//60, s%60))    \n",
    "                \n",
    "            if avg_score >= self.threshold: \n",
    "                print('\\n Environment solved in {:d} episodes!\\tAverage Score: {:.2f}'. \\\n",
    "                    format(i_episode, np.mean(scores_deque)))\n",
    "                break                                \n",
    "        print(iteration_graph)\n",
    "        print(score_graph)\n",
    "        print('Finished training!')\n",
    "        \n",
    "        return scores_array, avg_scores_array,iteration_graph,score_graph\n",
    "\n",
    "    def run(self):\n",
    "        self.env = gym.wrappers.Monitor(self.env,'Mountaincar', force=True)\n",
    "        t = 0\n",
    "        done = False\n",
    "        current_state = self.discretize_state(self.env.reset())\n",
    "        while not done:\n",
    "                self.env.render()\n",
    "                t = t+1\n",
    "                action = self.choose_action(current_state)\n",
    "                obs, reward, done, _ = self.env.step(action)\n",
    "                new_state = self.discretize_state(obs)\n",
    "                current_state = new_state\n",
    "            \n",
    "        return t\n",
    "    def close(self):\n",
    "        self.env.close()"
   ]
  },
  {
   "cell_type": "code",
   "execution_count": 5,
   "metadata": {
    "id": "HyCJXA8h9URo"
   },
   "outputs": [
    {
     "name": "stdout",
     "output_type": "stream",
     "text": [
      "threshold:  -110.0\n",
      "Episode: 50000, Timesteps:  162, Score: -162.0,  Avg.Score: -143.33, eps-greedy:  0.01, Time: 00:12:42\n",
      "Episode: 100000, Timesteps:  135, Score: -135.0,  Avg.Score: -132.52, eps-greedy:  0.01, Time: 00:24:09\n",
      "Episode: 150000, Timesteps:  165, Score: -165.0,  Avg.Score: -144.30, eps-greedy:  0.01, Time: 00:34:21\n",
      "Episode: 200000, Timesteps:  158, Score: -158.0,  Avg.Score: -148.45, eps-greedy:  0.01, Time: 00:44:53\n",
      "Episode: 250000, Timesteps:  142, Score: -142.0,  Avg.Score: -140.59, eps-greedy:  0.01, Time: 00:54:06\n",
      "Episode: 300000, Timesteps:  135, Score: -135.0,  Avg.Score: -165.67, eps-greedy:  0.01, Time: 01:03:38\n",
      "Episode: 350000, Timesteps:  159, Score: -159.0,  Avg.Score: -152.34, eps-greedy:  0.01, Time: 08:22:37\n",
      "Episode: 400000, Timesteps:  149, Score: -149.0,  Avg.Score: -161.14, eps-greedy:  0.01, Time: 08:34:34\n",
      "Episode: 450000, Timesteps:  108, Score: -108.0,  Avg.Score: -143.08, eps-greedy:  0.01, Time: 08:46:57\n",
      "[50000, 100000, 150000, 200000, 250000, 300000, 350000, 400000, 450000]\n",
      "[-143.33, -132.52, -144.3, -148.45, -140.59, -165.67, -152.34, -161.14, -143.08]\n",
      "Finished training!\n"
     ]
    },
    {
     "data": {
      "text/plain": [
       "[<matplotlib.lines.Line2D at 0x1fb1b1ecb48>]"
      ]
     },
     "execution_count": 5,
     "metadata": {},
     "output_type": "execute_result"
    },
    {
     "data": {
      "image/png": "[encoded data removed]",
      "text/plain": [
       "<Figure size 432x288 with 1 Axes>"
      ]
     },
     "metadata": {
      "needs_background": "light"
     },
     "output_type": "display_data"
    }
   ],
   "source": [
    "agent = MountaincarQAgent()\n",
    "scores, avg_scores,i_graph_original,s_graph_original = agent.train()\n",
    "import matplotlib.pyplot as plt\n",
    "import numpy as np\n",
    "fig, ax = plt.subplots() # Create a figure containing a single axes.\n",
    "ax.plot(i_graph_original, s_graph_original)  # Plot some data on the axes."
   ]
  },
  {
   "cell_type": "code",
   "execution_count": null,
   "metadata": {},
   "outputs": [],
   "source": []
  },
  {
   "cell_type": "markdown",
   "metadata": {
    "id": "mtx_7zTW9htd"
   },
   "source": [
    "**Hyper Parameter Tuning - Learning rate**\n",
    "\n",
    "\n",
    "**From 0.008 -> 0.05**"
   ]
  },
  {
   "cell_type": "code",
   "execution_count": 6,
   "metadata": {
    "id": "qRjbq8x89pAm"
   },
   "outputs": [
    {
     "name": "stdout",
     "output_type": "stream",
     "text": [
      "threshold:  -110.0\n",
      "Episode: 50000, Timesteps:  149, Score: -149.0,  Avg.Score: -148.03, eps-greedy:  0.01, Time: 00:14:39\n",
      "Episode: 100000, Timesteps:  148, Score: -148.0,  Avg.Score: -149.75, eps-greedy:  0.01, Time: 00:26:32\n",
      "Episode: 150000, Timesteps:  123, Score: -123.0,  Avg.Score: -162.18, eps-greedy:  0.01, Time: 00:38:16\n",
      "Episode: 200000, Timesteps:  145, Score: -145.0,  Avg.Score: -170.07, eps-greedy:  0.01, Time: 00:50:15\n",
      "Episode: 250000, Timesteps:  137, Score: -137.0,  Avg.Score: -137.01, eps-greedy:  0.01, Time: 01:01:50\n",
      "Episode: 300000, Timesteps:  149, Score: -149.0,  Avg.Score: -153.83, eps-greedy:  0.01, Time: 01:14:10\n",
      "Episode: 350000, Timesteps:  174, Score: -174.0,  Avg.Score: -191.68, eps-greedy:  0.01, Time: 01:26:47\n",
      "Episode: 400000, Timesteps:  136, Score: -136.0,  Avg.Score: -142.69, eps-greedy:  0.01, Time: 01:41:22\n",
      "Episode: 450000, Timesteps:  164, Score: -164.0,  Avg.Score: -147.37, eps-greedy:  0.01, Time: 01:59:16\n",
      "Finished training!\n",
      "[50000, 100000, 150000, 200000, 250000, 300000, 350000, 400000, 450000]\n",
      "[-148.03, -149.75, -162.18, -170.07, -137.01, -153.83, -191.68, -142.69, -147.37]\n"
     ]
    }
   ],
   "source": [
    "class MountaincarQAgent_hp1():\n",
    "    def __init__(self, buckets=(12, 12), num_episodes=500000, min_epsilon=0.01, discount=0.99, decay=100, force=True):\n",
    "        self.buckets = buckets\n",
    "        self.num_episodes = num_episodes\n",
    "        self.min_epsilon = min_epsilon\n",
    "        self.discount = discount\n",
    "        self.decay = decay\n",
    "\n",
    "        self.env = gym.make('MountainCar-v0')\n",
    "        self.upper_bounds = [self.env.observation_space.high[0], self.env.observation_space.high[1]]\n",
    "        self.lower_bounds = [self.env.observation_space.low[0], self.env.observation_space.low[1]]\n",
    "\n",
    "        #print(\"ub : \",self.upper_bounds)\n",
    "        #print(\"lb : \",self.lower_bounds)\n",
    "        \n",
    "        ## Concatination of tuples to get shape (12,12,3) for buckets=(12, 12)\n",
    "        self.Q_table = np.zeros(self.buckets + (self.env.action_space.n,))        \n",
    "        \n",
    "        self.learning_rate = 0.05\n",
    "        \n",
    "        self.threshold = self.env.spec.reward_threshold\n",
    "        print('threshold: ', self.threshold)\n",
    "\n",
    "    def discretize_state(self, obs):\n",
    "       # obs - it is the list of observations\n",
    "        discretized = list()\n",
    "        for i in range(len(obs)):\n",
    "            # print(\"obs : \",obs) #len(obs) = 2 => obs :  [-0.5343753   0.00108897]\n",
    "            #ub :  [0.6, 0.07]\n",
    "            #lb :  [-1.2, -0.07]\n",
    "            scaling = (obs[i] + abs(self.lower_bounds[i])) / (self.upper_bounds[i] - self.lower_bounds[i])\n",
    "            # scaling = (-0.53 + (-1.2)) / (0.6 - (-1.2))\n",
    "            new_obs = int(round((self.buckets[i] - 1) * scaling))\n",
    "            new_obs = min(self.buckets[i] - 1, max(0, new_obs))\n",
    "            #print(new_obs)\n",
    "            discretized.append(new_obs)\n",
    "        return tuple(discretized)\n",
    "\n",
    "    \n",
    "    def choose_action(self, state):\n",
    "        if (np.random.random() < self.epsilon):\n",
    "            return self.env.action_space.sample() \n",
    "        else:\n",
    "            return np.argmax(self.Q_table[state])\n",
    "\n",
    "    def update_q(self, state, action, reward, new_state):\n",
    "        self.Q_table[state][action] += \\\n",
    "           self.learning_rate * (reward + self.discount * np.max(self.Q_table[new_state]) - self.Q_table[state][action])\n",
    "\n",
    "    def get_epsilon(self, t):\n",
    "      #print(1. - math.log10((t + 1) / self.decay))\n",
    "      return max(self.min_epsilon, min(1., 1. - math.log10((t + 1) / self.decay)))\n",
    "\n",
    "    \n",
    "    def train(self):\n",
    "        scores_deque = deque(maxlen=100)\n",
    "        scores_array = []\n",
    "        avg_scores_array = []  \n",
    "        print_every = 50000\n",
    "        time_start = time.time()\n",
    "        iteration_graph_L=[]\n",
    "        score_graph_L=[]\n",
    "        for i_episode in range(self.num_episodes):\n",
    "            current_state = self.discretize_state(self.env.reset())\n",
    "\n",
    "            self.epsilon = self.get_epsilon(i_episode)\n",
    "            #print(\"eps : \",self.epsilon)\n",
    "            done = False\n",
    "            \n",
    "            episode_reward = 0\n",
    "            time_step = 0\n",
    "            \n",
    "            while not done:\n",
    "                action = self.choose_action(current_state)\n",
    "                obs, reward, done, _ = self.env.step(action)\n",
    "                #env. step() : This command will take an action at each step. \n",
    "                #The action is specified as its parameter. Env. step function returns four parameters, namely observation, reward, done and info.   \n",
    "                new_state = self.discretize_state(obs)\n",
    "                self.update_q(current_state, action, reward, new_state)\n",
    "                current_state = new_state\n",
    "                time_step += 1\n",
    "                episode_reward += reward\n",
    "                \n",
    "            scores_deque.append(episode_reward)\n",
    "            scores_array.append(episode_reward)\n",
    "            \n",
    "            avg_score = np.mean(scores_deque)\n",
    "            avg_scores_array.append(avg_score)\n",
    "            \n",
    "            s = (int)(time.time() - time_start)\n",
    "            \n",
    "            if i_episode % print_every == 0 and i_episode > 0:\n",
    "                iteration_graph_L.append(i_episode)\n",
    "                score_graph_L.append(avg_score)\n",
    "                print('Episode: {}, Timesteps:  {}, Score: {:5},  Avg.Score: {:.2f}, eps-greedy: {:5.2f}, Time: {:02}:{:02}:{:02}'.\\\n",
    "                    format(i_episode, time_step, episode_reward, avg_score, self.epsilon, s//3600, s%3600//60, s%60))    \n",
    "                \n",
    "            if avg_score >= self.threshold: \n",
    "                print('\\n Environment solved in {:d} episodes!\\tAverage Score: {:.2f}'. \\\n",
    "                    format(i_episode, np.mean(scores_deque)))\n",
    "                break                                \n",
    "\n",
    "        print('Finished training!')\n",
    "        \n",
    "        return scores_array, avg_scores_array,iteration_graph_L,score_graph_L\n",
    "\n",
    "    def run(self):\n",
    "        self.env = gym.wrappers.Monitor(self.env,'Mountaincar', force=True)\n",
    "        t = 0\n",
    "        done = False\n",
    "        current_state = self.discretize_state(self.env.reset())\n",
    "        while not done:\n",
    "                self.env.render()\n",
    "                t = t+1\n",
    "                action = self.choose_action(current_state)\n",
    "                obs, reward, done, _ = self.env.step(action)\n",
    "                new_state = self.discretize_state(obs)\n",
    "                current_state = new_state\n",
    "            \n",
    "        return t\n",
    "    def close(self):\n",
    "        self.env.close()\n",
    "\n",
    "agent = MountaincarQAgent_hp1()\n",
    "scores, avg_scores,iteration_graph_L,score_graph_L = agent.train()  \n",
    "print(iteration_graph_L)\n",
    "print(score_graph_L)"
   ]
  },
  {
   "cell_type": "code",
   "execution_count": 7,
   "metadata": {},
   "outputs": [
    {
     "data": {
      "text/plain": [
       "<matplotlib.legend.Legend at 0x1fb1ce60d88>"
      ]
     },
     "execution_count": 7,
     "metadata": {},
     "output_type": "execute_result"
    },
    {
     "data": {
      "image/png": "[encoded data removed]",
      "text/plain": [
       "<Figure size 432x288 with 1 Axes>"
      ]
     },
     "metadata": {
      "needs_background": "light"
     },
     "output_type": "display_data"
    }
   ],
   "source": [
    "x = iteration_graph_L\n",
    "\n",
    "# Note that even in the OO-style, we use `.pyplot.figure` to create the figure.\n",
    "fig, ax = plt.subplots()  # Create a figure and an axes.\n",
    "ax.plot(x, s_graph_original, label='Original')  # Plot some data on the axes.\n",
    "ax.plot(x, score_graph_L, label='HT-Learning Rate')  # Plot more data on the axes...\n",
    "\n",
    "ax.set_xlabel('x label')  # Add an x-label to the axes.\n",
    "ax.set_ylabel('y label')  # Add a y-label to the axes.\n",
    "ax.set_title(\"Simple Plot\")  # Add a title to the axes.\n",
    "ax.legend()  # Add a legend."
   ]
  },
  {
   "cell_type": "markdown",
   "metadata": {
    "id": "DELF82T7-cjh"
   },
   "source": [
    "**Hyper Parameter Tuning - Discount rate**\n",
    "\n",
    "\n",
    "**From 0.99 -> 0.55**"
   ]
  },
  {
   "cell_type": "code",
   "execution_count": 10,
   "metadata": {
    "id": "HhEkC0YP-cFm"
   },
   "outputs": [
    {
     "name": "stdout",
     "output_type": "stream",
     "text": [
      "threshold:  -110.0\n",
      "Episode: 50000, Timesteps:  155, Score: -155.0,  Avg.Score: -163.71, eps-greedy:  0.01, Time: 00:17:22\n",
      "Episode: 100000, Timesteps:  140, Score: -140.0,  Avg.Score: -142.95, eps-greedy:  0.01, Time: 00:35:16\n",
      "Episode: 150000, Timesteps:  118, Score: -118.0,  Avg.Score: -144.91, eps-greedy:  0.01, Time: 00:47:53\n",
      "Episode: 200000, Timesteps:  186, Score: -186.0,  Avg.Score: -156.67, eps-greedy:  0.01, Time: 00:59:19\n",
      "Episode: 250000, Timesteps:  139, Score: -139.0,  Avg.Score: -144.71, eps-greedy:  0.01, Time: 01:13:55\n",
      "Episode: 300000, Timesteps:  179, Score: -179.0,  Avg.Score: -178.51, eps-greedy:  0.01, Time: 01:27:04\n",
      "Episode: 350000, Timesteps:  185, Score: -185.0,  Avg.Score: -157.22, eps-greedy:  0.01, Time: 01:40:45\n",
      "Episode: 400000, Timesteps:  184, Score: -184.0,  Avg.Score: -189.14, eps-greedy:  0.01, Time: 01:53:18\n",
      "Episode: 450000, Timesteps:  200, Score: -200.0,  Avg.Score: -195.30, eps-greedy:  0.01, Time: 02:05:23\n",
      "Finished training!\n"
     ]
    }
   ],
   "source": [
    "class MountaincarQAgent_hp2():\n",
    "    def __init__(self, buckets=(12, 12), num_episodes=500000, min_epsilon=0.01, discount=0.55, decay=100, force=True):\n",
    "        self.buckets = buckets\n",
    "        self.num_episodes = num_episodes\n",
    "        self.min_epsilon = min_epsilon\n",
    "        self.discount = discount\n",
    "        self.decay = decay\n",
    "\n",
    "        self.env = gym.make('MountainCar-v0')\n",
    "        self.upper_bounds = [self.env.observation_space.high[0], self.env.observation_space.high[1]]\n",
    "        self.lower_bounds = [self.env.observation_space.low[0], self.env.observation_space.low[1]]\n",
    "\n",
    "\n",
    "        #print(\"ub : \",self.upper_bounds)\n",
    "        #print(\"lb : \",self.lower_bounds)\n",
    "        \n",
    "        ## Concatination of tuples to get shape (12,12,3) for buckets=(12, 12)\n",
    "        self.Q_table = np.zeros(self.buckets + (self.env.action_space.n,))        \n",
    "        \n",
    "        self.learning_rate = 0.008\n",
    "        \n",
    "        self.threshold = self.env.spec.reward_threshold\n",
    "        print('threshold: ', self.threshold)\n",
    "\n",
    "    def discretize_state(self, obs):\n",
    "       # obs - it is the list of observations\n",
    "        discretized = list()   \n",
    "        for i in range(len(obs)): \n",
    "            # print(\"obs : \",obs) #len(obs) = 2 => obs :  [-0.5343753   0.00108897]\n",
    "            #ub :  [0.6, 0.07]\n",
    "            #lb :  [-1.2, -0.07]\n",
    "            scaling = (obs[i] + abs(self.lower_bounds[i])) / (self.upper_bounds[i] - self.lower_bounds[i])\n",
    "            # scaling = (-0.53 + (-1.2)) / (0.6 - (-1.2))\n",
    "            new_obs = int(round((self.buckets[i] - 1) * scaling))\n",
    "            new_obs = min(self.buckets[i] - 1, max(0, new_obs))\n",
    "            #print(new_obs)\n",
    "            discretized.append(new_obs)\n",
    "        return tuple(discretized)\n",
    "\n",
    "    \n",
    "    def choose_action(self, state):\n",
    "        if (np.random.random() < self.epsilon):\n",
    "            return self.env.action_space.sample() \n",
    "        else:\n",
    "            return np.argmax(self.Q_table[state])\n",
    "\n",
    "    def update_q(self, state, action, reward, new_state):\n",
    "        self.Q_table[state][action] += \\\n",
    "           self.learning_rate * (reward + self.discount * np.max(self.Q_table[new_state]) - self.Q_table[state][action])\n",
    "\n",
    "    def get_epsilon(self, t):\n",
    "      #print(1. - math.log10((t + 1) / self.decay))\n",
    "      return max(self.min_epsilon, min(1., 1. - math.log10((t + 1) / self.decay)))\n",
    "\n",
    "    \n",
    "    def train(self):\n",
    "        scores_deque = deque(maxlen=100)\n",
    "        scores_array = []\n",
    "        avg_scores_array = []  \n",
    "        print_every = 50000\n",
    "        time_start = time.time()\n",
    "        iteration_graph_Disc=[]\n",
    "        score_graph_Disc=[]\n",
    "        for i_episode in range(self.num_episodes):\n",
    "            current_state = self.discretize_state(self.env.reset())\n",
    "\n",
    "            self.epsilon = self.get_epsilon(i_episode)\n",
    "            #print(\"eps : \",self.epsilon)\n",
    "            done = False\n",
    "            \n",
    "            episode_reward = 0\n",
    "            time_step = 0\n",
    "            \n",
    "            while not done:\n",
    "                action = self.choose_action(current_state)\n",
    "                obs, reward, done, _ = self.env.step(action)\n",
    "                #env. step() : This command will take an action at each step. \n",
    "                #The action is specified as its parameter. Env. step function returns four parameters, namely observation, reward, done and info.   \n",
    "                new_state = self.discretize_state(obs)\n",
    "                self.update_q(current_state, action, reward, new_state)\n",
    "                current_state = new_state\n",
    "                time_step += 1\n",
    "                episode_reward += reward\n",
    "                \n",
    "            scores_deque.append(episode_reward)\n",
    "            scores_array.append(episode_reward)\n",
    "            \n",
    "            avg_score = np.mean(scores_deque)\n",
    "            avg_scores_array.append(avg_score)\n",
    "            \n",
    "            s = (int)(time.time() - time_start)\n",
    "            \n",
    "            if i_episode % print_every == 0 and i_episode > 0:\n",
    "                iteration_graph_Disc.append(i_episode)\n",
    "                score_graph_Disc.append(avg_score)\n",
    "                print('Episode: {}, Timesteps:  {}, Score: {:5},  Avg.Score: {:.2f}, eps-greedy: {:5.2f}, Time: {:02}:{:02}:{:02}'.\\\n",
    "                    format(i_episode, time_step, episode_reward, avg_score, self.epsilon, s//3600, s%3600//60, s%60))    \n",
    "                \n",
    "            if avg_score >= self.threshold: \n",
    "                print('\\n Environment solved in {:d} episodes!\\tAverage Score: {:.2f}'. \\\n",
    "                    format(i_episode, np.mean(scores_deque)))\n",
    "                break                                \n",
    "\n",
    "        print('Finished training!')\n",
    "        \n",
    "        return scores_array, avg_scores_array,iteration_graph_Disc,score_graph_Disc\n",
    "\n",
    "    def run(self):\n",
    "        self.env = gym.wrappers.Monitor(self.env,'Mountaincar', force=True)\n",
    "        t = 0\n",
    "        done = False\n",
    "        current_state = self.discretize_state(self.env.reset())\n",
    "        while not done:\n",
    "                self.env.render()\n",
    "                t = t+1\n",
    "                action = self.choose_action(current_state)\n",
    "                obs, reward, done, _ = self.env.step(action)\n",
    "                new_state = self.discretize_state(obs)\n",
    "                current_state = new_state\n",
    "            \n",
    "        return t\n",
    "    def close(self):\n",
    "        self.env.close()\n",
    "\n",
    "agent = MountaincarQAgent_hp2()\n",
    "scores, avg_scores,iteration_graph_Disc,score_graph_Disc = agent.train()  "
   ]
  },
  {
   "cell_type": "code",
   "execution_count": 11,
   "metadata": {},
   "outputs": [
    {
     "data": {
      "text/plain": [
       "<matplotlib.legend.Legend at 0x1fb20f2e648>"
      ]
     },
     "execution_count": 11,
     "metadata": {},
     "output_type": "execute_result"
    },
    {
     "data": {
      "image/png": "[encoded data removed]",
      "text/plain": [
       "<Figure size 432x288 with 1 Axes>"
      ]
     },
     "metadata": {
      "needs_background": "light"
     },
     "output_type": "display_data"
    }
   ],
   "source": [
    "x = iteration_graph_Disc\n",
    "\n",
    "# Note that even in the OO-style, we use `.pyplot.figure` to create the figure.\n",
    "fig, ax = plt.subplots()  # Create a figure and an axes.\n",
    "ax.plot(x, s_graph_original, label='Original')  # Plot some data on the axes.\n",
    "ax.plot(x, score_graph_Disc, label='HT-Discount Rate')  # Plot more data on the axes...\n",
    "\n",
    "ax.set_xlabel('x label')  # Add an x-label to the axes.\n",
    "ax.set_ylabel('y label')  # Add a y-label to the axes.\n",
    "ax.set_title(\"Simple Plot\")  # Add a title to the axes.\n",
    "ax.legend()  # Add a legend."
   ]
  },
  {
   "cell_type": "markdown",
   "metadata": {
    "id": "E0i84fB4_Ij6"
   },
   "source": [
    "**Hyper Parameter Tuning - Decay**\n",
    "\n",
    "\n",
    "**From 100 -> 10**"
   ]
  },
  {
   "cell_type": "code",
   "execution_count": 12,
   "metadata": {
    "id": "7KAPJk4z_lGP"
   },
   "outputs": [
    {
     "name": "stdout",
     "output_type": "stream",
     "text": [
      "threshold:  -110.0\n",
      "Episode: 50000, Timesteps:  200, Score: -200.0,  Avg.Score: -173.82, eps-greedy:  0.01, Time: 00:12:58\n",
      "Episode: 100000, Timesteps:  160, Score: -160.0,  Avg.Score: -158.60, eps-greedy:  0.01, Time: 00:24:12\n",
      "Episode: 150000, Timesteps:  154, Score: -154.0,  Avg.Score: -150.52, eps-greedy:  0.01, Time: 00:35:44\n",
      "Episode: 200000, Timesteps:  157, Score: -157.0,  Avg.Score: -144.03, eps-greedy:  0.01, Time: 00:47:18\n",
      "Episode: 250000, Timesteps:  161, Score: -161.0,  Avg.Score: -141.75, eps-greedy:  0.01, Time: 00:59:36\n",
      "Episode: 300000, Timesteps:  182, Score: -182.0,  Avg.Score: -176.36, eps-greedy:  0.01, Time: 01:10:26\n",
      "Episode: 350000, Timesteps:  162, Score: -162.0,  Avg.Score: -141.21, eps-greedy:  0.01, Time: 01:22:23\n",
      "Episode: 400000, Timesteps:  152, Score: -152.0,  Avg.Score: -153.54, eps-greedy:  0.01, Time: 01:32:48\n",
      "Episode: 450000, Timesteps:  109, Score: -109.0,  Avg.Score: -135.90, eps-greedy:  0.01, Time: 01:42:54\n",
      "Finished training!\n"
     ]
    }
   ],
   "source": [
    "class MountaincarQAgent_hp3():\n",
    "    def __init__(self, buckets=(12, 12), num_episodes=500000, min_epsilon=0.01, discount=0.99, decay=10, force=True):\n",
    "        self.buckets = buckets\n",
    "        self.num_episodes = num_episodes\n",
    "        self.min_epsilon = min_epsilon\n",
    "        self.discount = discount\n",
    "        self.decay = decay\n",
    "\n",
    "        self.env = gym.make('MountainCar-v0')\n",
    "        self.upper_bounds = [self.env.observation_space.high[0], self.env.observation_space.high[1]]\n",
    "        self.lower_bounds = [self.env.observation_space.low[0], self.env.observation_space.low[1]]\n",
    "\n",
    "\n",
    "        #print(\"ub : \",self.upper_bounds)\n",
    "        #print(\"lb : \",self.lower_bounds)\n",
    "        \n",
    "        ## Concatination of tuples to get shape (12,12,3) for buckets=(12, 12)\n",
    "        \n",
    "        self.Q_table = np.zeros(self.buckets + (self.env.action_space.n,))        \n",
    "        \n",
    "        self.learning_rate = 0.008\n",
    "        \n",
    "        self.threshold = self.env.spec.reward_threshold\n",
    "        print('threshold: ', self.threshold)\n",
    "\n",
    "    def discretize_state(self, obs):\n",
    "       # obs - it is the list of observations\n",
    "        discretized = list()   \n",
    "        for i in range(len(obs)): \n",
    "            # print(\"obs : \",obs) #len(obs) = 2 => obs :  [-0.5343753   0.00108897]\n",
    "            #ub :  [0.6, 0.07]\n",
    "            #lb :  [-1.2, -0.07]\n",
    "            scaling = (obs[i] + abs(self.lower_bounds[i])) / (self.upper_bounds[i] - self.lower_bounds[i])\n",
    "            # scaling = (-0.53 + (-1.2)) / (0.6 - (-1.2))\n",
    "            new_obs = int(round((self.buckets[i] - 1) * scaling))\n",
    "            new_obs = min(self.buckets[i] - 1, max(0, new_obs))\n",
    "            #print(new_obs)\n",
    "            discretized.append(new_obs)\n",
    "        return tuple(discretized)\n",
    "\n",
    "    \n",
    "    def choose_action(self, state):\n",
    "        if (np.random.random() < self.epsilon):\n",
    "            return self.env.action_space.sample() \n",
    "        else:\n",
    "            return np.argmax(self.Q_table[state])\n",
    "\n",
    "    def update_q(self, state, action, reward, new_state):\n",
    "        self.Q_table[state][action] += \\\n",
    "           self.learning_rate * (reward + self.discount * np.max(self.Q_table[new_state]) - self.Q_table[state][action])\n",
    "\n",
    "    def get_epsilon(self, t):\n",
    "      #print(1. - math.log10((t + 1) / self.decay))\n",
    "      return max(self.min_epsilon, min(1., 1. - math.log10((t + 1) / self.decay)))\n",
    "\n",
    "    \n",
    "    def train(self):\n",
    "        scores_deque = deque(maxlen=100)\n",
    "        scores_array = []\n",
    "        avg_scores_array = []  \n",
    "        print_every = 50000\n",
    "        time_start = time.time()\n",
    "        iteration_graph_Decay=[]\n",
    "        score_graph_Decay=[]\n",
    "        for i_episode in range(self.num_episodes):\n",
    "            current_state = self.discretize_state(self.env.reset())\n",
    "\n",
    "            self.epsilon = self.get_epsilon(i_episode)\n",
    "            #print(\"eps : \",self.epsilon)\n",
    "            done = False\n",
    "            \n",
    "            episode_reward = 0\n",
    "            time_step = 0\n",
    "            \n",
    "            while not done:\n",
    "                action = self.choose_action(current_state)\n",
    "                obs, reward, done, _ = self.env.step(action)\n",
    "                #env. step() : This command will take an action at each step. \n",
    "                #The action is specified as its parameter. Env. step function returns four parameters, namely observation, reward, done and info.   \n",
    "                new_state = self.discretize_state(obs)\n",
    "                self.update_q(current_state, action, reward, new_state)\n",
    "                current_state = new_state\n",
    "                time_step += 1\n",
    "                episode_reward += reward\n",
    "                \n",
    "            scores_deque.append(episode_reward)\n",
    "            scores_array.append(episode_reward)\n",
    "            \n",
    "            avg_score = np.mean(scores_deque)\n",
    "            avg_scores_array.append(avg_score)\n",
    "            \n",
    "            s = (int)(time.time() - time_start)\n",
    "            \n",
    "            if i_episode % print_every == 0 and i_episode > 0:\n",
    "                iteration_graph_Decay.append(i_episode)\n",
    "                score_graph_Decay.append(avg_score)\n",
    "                print('Episode: {}, Timesteps:  {}, Score: {:5},  Avg.Score: {:.2f}, eps-greedy: {:5.2f}, Time: {:02}:{:02}:{:02}'.\\\n",
    "                    format(i_episode, time_step, episode_reward, avg_score, self.epsilon, s//3600, s%3600//60, s%60))    \n",
    "                \n",
    "            if avg_score >= self.threshold: \n",
    "                print('\\n Environment solved in {:d} episodes!\\tAverage Score: {:.2f}'. \\\n",
    "                    format(i_episode, np.mean(scores_deque)))\n",
    "                break                                \n",
    "\n",
    "        print('Finished training!')\n",
    "        \n",
    "        return scores_array, avg_scores_array ,iteration_graph_Decay,score_graph_Decay\n",
    "\n",
    "    def run(self):\n",
    "        self.env = gym.wrappers.Monitor(self.env,'Mountaincar', force=True)\n",
    "        t = 0\n",
    "        done = False\n",
    "        current_state = self.discretize_state(self.env.reset())\n",
    "        while not done:\n",
    "                self.env.render()\n",
    "                t = t+1\n",
    "                action = self.choose_action(current_state)\n",
    "                obs, reward, done, _ = self.env.step(action)\n",
    "                new_state = self.discretize_state(obs)\n",
    "                current_state = new_state\n",
    "            \n",
    "        return t\n",
    "    def close(self):\n",
    "        self.env.close()\n",
    "\n",
    "agent = MountaincarQAgent_hp3()\n",
    "scores, avg_scores,iteration_graph_Decay,score_graph_Decay = agent.train()  "
   ]
  },
  {
   "cell_type": "code",
   "execution_count": 13,
   "metadata": {},
   "outputs": [
    {
     "data": {
      "text/plain": [
       "<matplotlib.legend.Legend at 0x1fb1d91c488>"
      ]
     },
     "execution_count": 13,
     "metadata": {},
     "output_type": "execute_result"
    },
    {
     "data": {
      "image/png": "[encoded data removed]",
      "text/plain": [
       "<Figure size 432x288 with 1 Axes>"
      ]
     },
     "metadata": {
      "needs_background": "light"
     },
     "output_type": "display_data"
    }
   ],
   "source": [
    "x = iteration_graph_Decay\n",
    "\n",
    "# Note that even in the OO-style, we use `.pyplot.figure` to create the figure.\n",
    "fig, ax = plt.subplots()  # Create a figure and an axes.\n",
    "ax.plot(x, s_graph_original, label='Original')  # Plot some data on the axes.\n",
    "ax.plot(x, score_graph_Decay, label='HT-Decay Rate')  # Plot more data on the axes...\n",
    "\n",
    "ax.set_xlabel('x label')  # Add an x-label to the axes.\n",
    "ax.set_ylabel('y label')  # Add a y-label to the axes.\n",
    "ax.set_title(\"Simple Plot\")  # Add a title to the axes.\n",
    "ax.legend()  # Add a legend."
   ]
  },
  {
   "cell_type": "markdown",
   "metadata": {
    "id": "lYjKxvFbB4RQ"
   },
   "source": [
    "**Hyper Parameter Tuning - Epsilon**\n",
    "\n",
    "\n",
    "**From 0.01 -> 0.1**"
   ]
  },
  {
   "cell_type": "code",
   "execution_count": null,
   "metadata": {},
   "outputs": [],
   "source": []
  },
  {
   "cell_type": "code",
   "execution_count": 14,
   "metadata": {
    "id": "LZIRy5GPCFsq"
   },
   "outputs": [
    {
     "name": "stdout",
     "output_type": "stream",
     "text": [
      "threshold:  -110.0\n",
      "Episode: 50000, Timesteps:  185, Score: -185.0,  Avg.Score: -161.27, eps-greedy:  0.10, Time: 01:16:15\n",
      "Episode: 100000, Timesteps:  200, Score: -200.0,  Avg.Score: -165.87, eps-greedy:  0.10, Time: 01:31:22\n",
      "Episode: 150000, Timesteps:  177, Score: -177.0,  Avg.Score: -163.99, eps-greedy:  0.10, Time: 01:43:27\n",
      "Episode: 200000, Timesteps:  152, Score: -152.0,  Avg.Score: -153.19, eps-greedy:  0.10, Time: 01:55:30\n",
      "Episode: 250000, Timesteps:  110, Score: -110.0,  Avg.Score: -152.49, eps-greedy:  0.10, Time: 02:07:47\n",
      "Episode: 300000, Timesteps:  151, Score: -151.0,  Avg.Score: -160.36, eps-greedy:  0.10, Time: 02:23:46\n",
      "Episode: 350000, Timesteps:  120, Score: -120.0,  Avg.Score: -157.65, eps-greedy:  0.10, Time: 02:37:24\n",
      "Episode: 400000, Timesteps:  153, Score: -153.0,  Avg.Score: -171.75, eps-greedy:  0.10, Time: 02:49:40\n",
      "Episode: 450000, Timesteps:  164, Score: -164.0,  Avg.Score: -166.18, eps-greedy:  0.10, Time: 03:03:52\n",
      "Finished training!\n"
     ]
    }
   ],
   "source": [
    "class MountaincarQAgent_hp4():\n",
    "    def __init__(self, buckets=(12, 12), num_episodes=500000, min_epsilon=0.1, discount=0.99, decay=100, force=True):\n",
    "        self.buckets = buckets\n",
    "        self.num_episodes = num_episodes\n",
    "        self.min_epsilon = min_epsilon\n",
    "        self.discount = discount\n",
    "        self.decay = decay\n",
    "\n",
    "        self.env = gym.make('MountainCar-v0')\n",
    "        self.upper_bounds = [self.env.observation_space.high[0], self.env.observation_space.high[1]]\n",
    "        self.lower_bounds = [self.env.observation_space.low[0], self.env.observation_space.low[1]]\n",
    "\n",
    "\n",
    "        #print(\"ub : \",self.upper_bounds)\n",
    "        #print(\"lb : \",self.lower_bounds)\n",
    "        \n",
    "        ## Concatination of tuples to get shape (12,12,3) for buckets=(12, 12)\n",
    "        self.Q_table = np.zeros(self.buckets + (self.env.action_space.n,))        \n",
    "        \n",
    "        self.learning_rate = 0.008\n",
    "        \n",
    "        self.threshold = self.env.spec.reward_threshold\n",
    "        print('threshold: ', self.threshold)\n",
    "\n",
    "    def discretize_state(self, obs):\n",
    "       # obs - it is the list of observations\n",
    "        discretized = list()   \n",
    "        for i in range(len(obs)): \n",
    "            # print(\"obs : \",obs) #len(obs) = 2 => obs :  [-0.5343753   0.00108897]\n",
    "            #ub :  [0.6, 0.07]\n",
    "            #lb :  [-1.2, -0.07]\n",
    "            scaling = (obs[i] + abs(self.lower_bounds[i])) / (self.upper_bounds[i] - self.lower_bounds[i])\n",
    "            # scaling = (-0.53 + (-1.2)) / (0.6 - (-1.2))\n",
    "            new_obs = int(round((self.buckets[i] - 1) * scaling))\n",
    "            new_obs = min(self.buckets[i] - 1, max(0, new_obs))\n",
    "            #print(new_obs)\n",
    "            discretized.append(new_obs)\n",
    "        return tuple(discretized)\n",
    "\n",
    "    \n",
    "    def choose_action(self, state):\n",
    "        if (np.random.random() < self.epsilon):\n",
    "            return self.env.action_space.sample() \n",
    "        else:\n",
    "            return np.argmax(self.Q_table[state])\n",
    "\n",
    "    def update_q(self, state, action, reward, new_state):\n",
    "        self.Q_table[state][action] += \\\n",
    "           self.learning_rate * (reward + self.discount * np.max(self.Q_table[new_state]) - self.Q_table[state][action])\n",
    "\n",
    "    def get_epsilon(self, t):\n",
    "      #print(1. - math.log10((t + 1) / self.decay))\n",
    "      return max(self.min_epsilon, min(1., 1. - math.log10((t + 1) / self.decay)))\n",
    "\n",
    "    \n",
    "    def train(self):\n",
    "        scores_deque = deque(maxlen=100)\n",
    "        scores_array = []\n",
    "        avg_scores_array = []  \n",
    "        print_every = 50000\n",
    "        time_start = time.time()\n",
    "        i_graph_E=[]\n",
    "        s_graph_E=[]\n",
    "        for i_episode in range(self.num_episodes):\n",
    "            current_state = self.discretize_state(self.env.reset())\n",
    "\n",
    "            self.epsilon = self.get_epsilon(i_episode)\n",
    "            #print(\"eps : \",self.epsilon)\n",
    "            done = False\n",
    "            \n",
    "            episode_reward = 0\n",
    "            time_step = 0\n",
    "            \n",
    "            while not done:\n",
    "                action = self.choose_action(current_state)\n",
    "                obs, reward, done, _ = self.env.step(action)\n",
    "                #env. step() : This command will take an action at each step. \n",
    "                #The action is specified as its parameter. Env. step function returns four parameters, namely observation, reward, done and info.   \n",
    "                new_state = self.discretize_state(obs)\n",
    "                self.update_q(current_state, action, reward, new_state)\n",
    "                current_state = new_state\n",
    "                time_step += 1\n",
    "                episode_reward += reward\n",
    "                \n",
    "            scores_deque.append(episode_reward)\n",
    "            scores_array.append(episode_reward)\n",
    "            \n",
    "            avg_score = np.mean(scores_deque)\n",
    "            avg_scores_array.append(avg_score)\n",
    "            \n",
    "            s = (int)(time.time() - time_start)\n",
    "            \n",
    "            if i_episode % print_every == 0 and i_episode > 0: \n",
    "                i_graph_E.append(i_episode)\n",
    "                s_graph_E.append(avg_score)\n",
    "                print('Episode: {}, Timesteps:  {}, Score: {:5},  Avg.Score: {:.2f}, eps-greedy: {:5.2f}, Time: {:02}:{:02}:{:02}'.\\\n",
    "                    format(i_episode, time_step, episode_reward, avg_score, self.epsilon, s//3600, s%3600//60, s%60))    \n",
    "                \n",
    "            if avg_score >= self.threshold: \n",
    "                print('\\n Environment solved in {:d} episodes!\\tAverage Score: {:.2f}'. \\\n",
    "                    format(i_episode, np.mean(scores_deque)))\n",
    "                break                                \n",
    "\n",
    "        print('Finished training!')\n",
    "        \n",
    "        return scores_array, avg_scores_array,i_graph_E,s_graph_E\n",
    "\n",
    "    def run(self):\n",
    "        self.env = gym.wrappers.Monitor(self.env,'Mountaincar', force=True)\n",
    "        t = 0\n",
    "        done = False\n",
    "        current_state = self.discretize_state(self.env.reset())\n",
    "        while not done:\n",
    "                self.env.render()\n",
    "                t = t+1\n",
    "                action = self.choose_action(current_state)\n",
    "                obs, reward, done, _ = self.env.step(action)\n",
    "                new_state = self.discretize_state(obs)\n",
    "                current_state = new_state\n",
    "            \n",
    "        return t\n",
    "    def close(self):\n",
    "        self.env.close()\n",
    "\n",
    "\n",
    "agent = MountaincarQAgent_hp4()\n",
    "scores, avg_scores,iter_score_E,score_graph_E = agent.train() "
   ]
  },
  {
   "cell_type": "code",
   "execution_count": 15,
   "metadata": {},
   "outputs": [
    {
     "data": {
      "text/plain": [
       "<matplotlib.legend.Legend at 0x1fb1c93cd88>"
      ]
     },
     "execution_count": 15,
     "metadata": {},
     "output_type": "execute_result"
    },
    {
     "data": {
      "image/png": "[encoded data removed]",
      "text/plain": [
       "<Figure size 432x288 with 1 Axes>"
      ]
     },
     "metadata": {
      "needs_background": "light"
     },
     "output_type": "display_data"
    }
   ],
   "source": [
    "x = iter_score_E\n",
    "\n",
    "# Note that even in the OO-style, we use `.pyplot.figure` to create the figure.\n",
    "fig, ax = plt.subplots()  # Create a figure and an axes.\n",
    "ax.plot(x, s_graph_original, label='Original')  # Plot some data on the axes.\n",
    "ax.plot(x, score_graph_E, label='HT-Epsilon')  # Plot more data on the axes...\n",
    "\n",
    "ax.set_xlabel('x label')  # Add an x-label to the axes.\n",
    "ax.set_ylabel('y label')  # Add a y-label to the axes.\n",
    "ax.set_title(\"Simple Plot\")  # Add a title to the axes.\n",
    "ax.legend()  # Add a legend."
   ]
  },
  {
   "cell_type": "code",
   "execution_count": null,
   "metadata": {},
   "outputs": [],
   "source": []
  }
 ],
 "metadata": {
  "colab": {
   "name": "RL_Final.ipynb",
   "provenance": []
  },
  "kernelspec": {
   "display_name": "Python 3 (ipykernel)",
   "language": "python",
   "name": "python3"
  },
  "language_info": {
   "codemirror_mode": {
    "name": "ipython",
    "version": 3
   },
   "file_extension": ".py",
   "mimetype": "text/x-python",
   "name": "python",
   "nbconvert_exporter": "python",
   "pygments_lexer": "ipython3",
   "version": "3.7.9"
  }
 },
 "nbformat": 4,
 "nbformat_minor": 1
}
